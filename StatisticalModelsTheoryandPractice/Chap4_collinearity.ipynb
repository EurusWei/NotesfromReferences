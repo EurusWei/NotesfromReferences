{
 "cells": [
  {
   "cell_type": "code",
   "execution_count": 5,
   "metadata": {},
   "outputs": [],
   "source": [
    "import numpy as np \n",
    "import sklearn\n",
    "from sklearn.linear_model import LinearRegression"
   ]
  },
  {
   "cell_type": "markdown",
   "metadata": {},
   "source": [
    "Exercise 4B10 on P55:\n",
    "Suppose $(X_i, W_i, \\epsilon_i)$ are triplets across subjects, and they all have mean $0$. The response variable $Y_i$ is in truth:\n",
    "$Y_i = aX_i + bW_i + \\epsilon_i$. Now fix $a=1, b=2$. \n",
    "\n",
    "First generate errors, then consider two experiments: when $X$ and $W$ are corrlated or not.\n",
    "\n",
    "Below comparisions show two things:\n",
    "1. omit a correlated predictor will incur bias to the estimate of the kept predictor;\n",
    "2. if predictors are correlated and only some are kept, even bias exsits for estimates, the $R^2$ is better than when predictors are uncorrelated."
   ]
  },
  {
   "cell_type": "code",
   "execution_count": 2,
   "metadata": {},
   "outputs": [],
   "source": [
    "N = 100\n",
    "errors = np.random.normal(0, 0.01, size=N)"
   ]
  },
  {
   "cell_type": "markdown",
   "metadata": {},
   "source": [
    "### Experiment 1: two predictors are independent"
   ]
  },
  {
   "cell_type": "code",
   "execution_count": 27,
   "metadata": {},
   "outputs": [
    {
     "name": "stdout",
     "output_type": "stream",
     "text": [
      "Include both predictors in the model, score and coeffcients are\n",
      "0.9999875830771965\n",
      "[0.99997399 2.00070681]\n",
      "\n",
      "\n",
      "Only include the first predictor, score and coeffcients are\n",
      "0.3873107222008937\n",
      "[1.62906393]\n"
     ]
    }
   ],
   "source": [
    "np.random.seed(2)\n",
    "mean = [0, 0]\n",
    "cov = [[1, 0.2], [0.2, 1]]\n",
    "a, b = 1, 2\n",
    "input = np.random.multivariate_normal(mean, cov, size=N)\n",
    "Y = a * input[:, 0] + b * input[:, 1] + errors\n",
    "#include a dummy variable or not does not impact results\n",
    "print(\"Include both predictors in the model, score and coeffcients are\")\n",
    "model1 = LinearRegression().fit(input, Y)\n",
    "print(model1.score(input, Y))\n",
    "print(model1.coef_)\n",
    "print('\\n')\n",
    "print(\"Only include the first predictor, score and coeffcients are\")\n",
    "model2 = LinearRegression(fit_intercept=False).fit(input[:, 0][:, np.newaxis], Y)\n",
    "print(model2.score(input[:, 0][:, np.newaxis], Y))\n",
    "print(model2.coef_)"
   ]
  },
  {
   "cell_type": "markdown",
   "metadata": {},
   "source": [
    "### Experiment 2"
   ]
  },
  {
   "cell_type": "code",
   "execution_count": 30,
   "metadata": {},
   "outputs": [
    {
     "name": "stdout",
     "output_type": "stream",
     "text": [
      "Include both predictors in the model, score and coeffcients are\n",
      "0.999982298550965\n",
      "[0.99883972 1.99989617]\n",
      "\n",
      "\n",
      "Only include the first predictor, score and coeffcients are\n",
      "0.25079323262174735\n",
      "[1.2103217]\n"
     ]
    }
   ],
   "source": [
    "np.random.seed(3)\n",
    "mean = [0, 0]\n",
    "cov = [[1, 0], [0, 1]]\n",
    "a, b = 1, 2\n",
    "input = np.random.multivariate_normal(mean, cov, size=N)\n",
    "Y = a * input[:, 0] + b * input[:, 1] + errors\n",
    "#include a dummy variable or not does not impact results\n",
    "print(\"Include both predictors in the model, score and coeffcients are\")\n",
    "model3 = LinearRegression().fit(input, Y)\n",
    "print(model3.score(input, Y))\n",
    "print(model3.coef_)\n",
    "print('\\n')\n",
    "print(\"Only include the first predictor, score and coeffcients are\")\n",
    "model4 = LinearRegression(fit_intercept=False).fit(input[:, 0][:, np.newaxis], Y)\n",
    "print(model4.score(input[:, 0][:, np.newaxis], Y))\n",
    "print(model4.coef_)"
   ]
  }
 ],
 "metadata": {
  "kernelspec": {
   "display_name": "Python 3",
   "language": "python",
   "name": "python3"
  },
  "language_info": {
   "codemirror_mode": {
    "name": "ipython",
    "version": 3
   },
   "file_extension": ".py",
   "mimetype": "text/x-python",
   "name": "python",
   "nbconvert_exporter": "python",
   "pygments_lexer": "ipython3",
   "version": "3.9.18"
  }
 },
 "nbformat": 4,
 "nbformat_minor": 2
}
